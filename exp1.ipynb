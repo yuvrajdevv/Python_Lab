{
 "cells": [
  {
   "cell_type": "code",
   "execution_count": 9,
   "id": "89073ded-5aaa-4e30-a7e7-74e722dadc61",
   "metadata": {},
   "outputs": [
    {
     "name": "stdout",
     "output_type": "stream",
     "text": [
      "Integer value: 42 | Type: <class 'int'>\n"
     ]
    }
   ],
   "source": [
    "# Demonstrating basic data types in Python\n",
    "# Integer\n",
    "integer_value = 42\n",
    "print(\"Integer value:\", integer_value, \"| Type:\", type(integer_value))\n"
   ]
  },
  {
   "cell_type": "code",
   "execution_count": 3,
   "id": "abea7425-de7e-4cd9-8eb9-5bb6d0f8cc55",
   "metadata": {},
   "outputs": [
    {
     "name": "stdout",
     "output_type": "stream",
     "text": [
      "Float value: 3.14 | Type: <class 'float'>\n"
     ]
    }
   ],
   "source": [
    "\n",
    "# Float\n",
    "float_value = 3.14\n",
    "print(\"Float value:\", float_value, \"| Type:\", type(float_value))\n"
   ]
  },
  {
   "cell_type": "code",
   "execution_count": 5,
   "id": "a116f174-eaac-422d-b928-e63166f124ae",
   "metadata": {},
   "outputs": [
    {
     "name": "stdout",
     "output_type": "stream",
     "text": [
      "String value: Hello, Python! | Type: <class 'str'>\n"
     ]
    }
   ],
   "source": [
    "# String\n",
    "string_value = \"Hello, Python!\"\n",
    "print(\"String value:\", string_value, \"| Type:\", type(string_value))"
   ]
  },
  {
   "cell_type": "code",
   "execution_count": 7,
   "id": "0227ac81-54e6-4036-b292-35525600cbbe",
   "metadata": {},
   "outputs": [
    {
     "name": "stdout",
     "output_type": "stream",
     "text": [
      "Boolean value: True | Type: <class 'bool'>\n"
     ]
    }
   ],
   "source": [
    "# Boolean\n",
    "boolean_value = True\n",
    "print(\"Boolean value:\", boolean_value, \"| Type:\", type(boolean_value))"
   ]
  },
  {
   "cell_type": "code",
   "execution_count": null,
   "id": "f2343887-4cec-446a-8d89-d6281eb6dfad",
   "metadata": {},
   "outputs": [],
   "source": []
  }
 ],
 "metadata": {
  "kernelspec": {
   "display_name": "Python 3 (ipykernel)",
   "language": "python",
   "name": "python3"
  },
  "language_info": {
   "codemirror_mode": {
    "name": "ipython",
    "version": 3
   },
   "file_extension": ".py",
   "mimetype": "text/x-python",
   "name": "python",
   "nbconvert_exporter": "python",
   "pygments_lexer": "ipython3",
   "version": "3.12.7"
  }
 },
 "nbformat": 4,
 "nbformat_minor": 5
}
