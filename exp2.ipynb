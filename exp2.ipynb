{
 "cells": [
  {
   "cell_type": "code",
   "execution_count": 1,
   "id": "2c904981-b00b-4d5e-b175-84de2e329d06",
   "metadata": {},
   "outputs": [
    {
     "name": "stdin",
     "output_type": "stream",
     "text": [
      "Enter the x-coordinate of the first point:  20\n",
      "Enter the y-coordinate of the first point:  20\n",
      "Enter the x-coordinate of the second point:  50\n",
      "Enter the y-coordinate of the second point:  50\n"
     ]
    },
    {
     "name": "stdout",
     "output_type": "stream",
     "text": [
      "The distance between the points (20.0, 20.0) and (50.0, 50.0) is 42.43\n"
     ]
    }
   ],
   "source": [
    "import math  # Import the math module to use mathematical functions\n",
    "\n",
    "# Prompt the user to enter the x-coordinate of the first point and convert it to a float\n",
    "x1 = float(input(\"Enter the x-coordinate of the first point: \"))\n",
    "\n",
    "# Prompt the user to enter the y-coordinate of the first point and convert it to a float\n",
    "y1 = float(input(\"Enter the y-coordinate of the first point: \"))\n",
    "\n",
    "# Prompt the user to enter the x-coordinate of the second point and convert it to a float\n",
    "x2 = float(input(\"Enter the x-coordinate of the second point: \"))\n",
    "\n",
    "# Prompt the user to enter the y-coordinate of the second point and convert it to a float\n",
    "y2 = float(input(\"Enter the y-coordinate of the second point: \"))\n",
    "\n",
    "# Calculate the distance between the two points using the distance formula\n",
    "distance = math.sqrt((x2 - x1)**2 + (y2 - y1)**2)\n",
    "\n",
    "# Print the calculated distance formatted to two decimal places\n",
    "print(f\"The distance between the points ({x1}, {y1}) and ({x2}, {y2}) is {distance:.2f}\")"
   ]
  },
  {
   "cell_type": "code",
   "execution_count": 2,
   "id": "8b4b7414-dbb3-4ab5-940c-1c9e5c4ff7f8",
   "metadata": {},
   "outputs": [
    {
     "name": "stdin",
     "output_type": "stream",
     "text": [
      "Enter first number:  20\n",
      "Enter second number:  30\n"
     ]
    },
    {
     "name": "stdout",
     "output_type": "stream",
     "text": [
      "20  +  30  =  50\n"
     ]
    }
   ],
   "source": [
    "num1 = int(input(\"Enter first number: \"))\n",
    "num2 = int(input(\"Enter second number: \"))\n",
    "num3 = num1 + num2\n",
    "print(num1,\" + \",num2,\" = \",num3)"
   ]
  },
  {
   "cell_type": "code",
   "execution_count": null,
   "id": "cc1301b4-671f-4f26-9e8c-b1f7798b9281",
   "metadata": {},
   "outputs": [],
   "source": [
    "# Prompt the user to enter the first number and convert the input to an integer\n",
    "num1 = int(input(\"Enter first number: \"))\n",
    "\n",
    "# Prompt the user to enter the second number and convert the input to an integer\n",
    "num2 = int(input(\"Enter second number: \"))\n",
    "\n",
    "# Calculate the sum of the two numbers\n",
    "num3 = num1 + num2\n",
    "\n",
    "# Print the result of the addition in a formatted manner\n",
    "print(num1,\" + \",num2,\" = \",num3)"
   ]
  },
  {
   "cell_type": "code",
   "execution_count": null,
   "id": "3e9d639c-0caa-43b2-8d66-7dd38033960d",
   "metadata": {},
   "outputs": [],
   "source": []
  }
 ],
 "metadata": {
  "kernelspec": {
   "display_name": "Python 3 (ipykernel)",
   "language": "python",
   "name": "python3"
  },
  "language_info": {
   "codemirror_mode": {
    "name": "ipython",
    "version": 3
   },
   "file_extension": ".py",
   "mimetype": "text/x-python",
   "name": "python",
   "nbconvert_exporter": "python",
   "pygments_lexer": "ipython3",
   "version": "3.12.7"
  }
 },
 "nbformat": 4,
 "nbformat_minor": 5
}
