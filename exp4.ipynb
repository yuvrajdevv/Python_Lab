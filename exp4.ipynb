{
 "cells": [
  {
   "cell_type": "code",
   "execution_count": 10,
   "id": "3946ff7f-96eb-4649-b01d-b455929735d4",
   "metadata": {},
   "outputs": [
    {
     "name": "stdout",
     "output_type": "stream",
     "text": [
      "['Tanmay', 'Vanshika', 'Tanisha', 'Yuvraj']\n",
      "Tanmay\n",
      "Tanmay\n",
      "Vanshika\n",
      "Tanisha\n",
      "Yuvraj\n"
     ]
    },
    {
     "data": {
      "text/plain": [
       "['Tanmay', 'Vanshika', 'Tanisha', 'Rahu']"
      ]
     },
     "execution_count": 10,
     "metadata": {},
     "output_type": "execute_result"
    }
   ],
   "source": [
    "# Create a list of names\n",
    "l = ['Tanmay','Vanshika','Tanisha','Yuvraj']\n",
    "\n",
    "# Print the entire list of names\n",
    "print(l)\n",
    "\n",
    "# Print the first name in the list\n",
    "print(l[0])\n",
    "\n",
    "# Iterate through each name in the list and print it\n",
    "for i in l:\n",
    "    print(i)\n",
    "\n",
    "# Update the fourth name in the list to \"Rahu\"\n",
    "l[3] = \"Rahu\"\n",
    "\n",
    "# Display the updated list\n",
    "l"
   ]
  },
  {
   "cell_type": "code",
   "execution_count": 8,
   "id": "5933917e-44c9-497b-831a-778aef090bb5",
   "metadata": {},
   "outputs": [
    {
     "name": "stdout",
     "output_type": "stream",
     "text": [
      "('Tanmay', 'Vanshika', 'Tanisha', 'Yuvraj')\n",
      "Yuvraj\n",
      "Tanmay\n",
      "Vanshika\n",
      "Tanisha\n",
      "Yuvraj\n"
     ]
    }
   ],
   "source": [
    "# Define a tuple containing names\n",
    "t = ('Tanmay','Vanshika','Tanisha','Yuvraj')\n",
    "\n",
    "# Print the entire tuple\n",
    "print(t)\n",
    "\n",
    "# Print the fourth element of the tuple (index 3)\n",
    "print(t[3])\n",
    "\n",
    "# Iterate through each element in the tuple\n",
    "for i in t:\n",
    "    # Print the current element\n",
    "    print(i)"
   ]
  },
  {
   "cell_type": "code",
   "execution_count": 14,
   "id": "5503d1ee-4801-4203-a3b4-0134093e67dd",
   "metadata": {},
   "outputs": [
    {
     "name": "stdout",
     "output_type": "stream",
     "text": [
      "2\n",
      "34\n",
      "1\n",
      "4\n",
      "13\n"
     ]
    }
   ],
   "source": [
    "l1 = [2,34,1,4,13]  # Initialize a list of integers\n",
    "for i in l1:  # Iterate over each element in the list\n",
    "    print(i)  # Print the current element"
   ]
  },
  {
   "cell_type": "code",
   "execution_count": 18,
   "id": "21763108-73b7-405a-b33b-f3197a410984",
   "metadata": {},
   "outputs": [
    {
     "name": "stdout",
     "output_type": "stream",
     "text": [
      "H\n",
      "e\n",
      "l\n",
      "l\n",
      "o\n",
      " \n",
      "P\n",
      "y\n",
      "t\n",
      "h\n",
      "o\n",
      "n\n"
     ]
    }
   ],
   "source": [
    "st = \"Hello Python\"  # Initialize a string variable 'st' with the value \"Hello Python\"\n",
    "for i in st:  # Iterate over each character 'i' in the string 'st'\n",
    "    print(i)  # Print the current character 'i'"
   ]
  },
  {
   "cell_type": "code",
   "execution_count": 22,
   "id": "5a8e5f40-39be-458a-965c-08e82e82648f",
   "metadata": {},
   "outputs": [
    {
     "name": "stdin",
     "output_type": "stream",
     "text": [
      "Enter a number:  8\n"
     ]
    },
    {
     "name": "stdout",
     "output_type": "stream",
     "text": [
      "8\n",
      "7\n",
      "6\n",
      "5\n",
      "4\n",
      "3\n",
      "2\n",
      "1\n",
      "0\n"
     ]
    }
   ],
   "source": [
    "# Prompt the user to enter a number and convert the input to an integer\n",
    "num = int(input(\"Enter a number: \"))\n",
    "\n",
    "# Continue the loop as long as the number is non-negative\n",
    "while num >= 0:\n",
    "    # Print the current value of num\n",
    "    print(num)\n",
    "    # Decrease the value of num by 1\n",
    "    num -= 1"
   ]
  },
  {
   "cell_type": "code",
   "execution_count": null,
   "id": "04946b5f-dfe6-4a92-8296-7ac277838a62",
   "metadata": {},
   "outputs": [],
   "source": []
  }
 ],
 "metadata": {
  "kernelspec": {
   "display_name": "Python 3 (ipykernel)",
   "language": "python",
   "name": "python3"
  },
  "language_info": {
   "codemirror_mode": {
    "name": "ipython",
    "version": 3
   },
   "file_extension": ".py",
   "mimetype": "text/x-python",
   "name": "python",
   "nbconvert_exporter": "python",
   "pygments_lexer": "ipython3",
   "version": "3.12.7"
  }
 },
 "nbformat": 4,
 "nbformat_minor": 5
}
