{
 "cells": [
  {
   "cell_type": "code",
   "execution_count": 3,
   "id": "733f0234-d8de-4dbe-a66d-aa380e3560c3",
   "metadata": {},
   "outputs": [
    {
     "name": "stdin",
     "output_type": "stream",
     "text": [
      "Enter a number:  9\n"
     ]
    },
    {
     "name": "stdout",
     "output_type": "stream",
     "text": [
      "9  is not even\n"
     ]
    }
   ],
   "source": [
    "# Prompt the user to enter a number and convert the input to an integer\n",
    "num = int(input(\"Enter a number: \"))\n",
    "\n",
    "# Check if the number is even by using the modulus operator\n",
    "if (num % 2 == 0):\n",
    "    # If the number is even, print a message indicating it is even\n",
    "    print(num, \" is even\")\n",
    "else:\n",
    "    # If the number is not even, print a message indicating it is not even\n",
    "    print(num, \" is not even\")"
   ]
  },
  {
   "cell_type": "code",
   "execution_count": 7,
   "id": "c7dceae3-ca40-4aac-acbe-ccc00ee123e3",
   "metadata": {},
   "outputs": [
    {
     "name": "stdout",
     "output_type": "stream",
     "text": [
      "0.5\n",
      "0.3333333333333333\n",
      "0.25\n",
      "0.2\n",
      "0.16666666666666666\n",
      "0.14285714285714285\n",
      "0.125\n",
      "0.1111111111111111\n",
      "0.1\n"
     ]
    }
   ],
   "source": [
    "# Iterate over a range of numbers from 2 to 10 (inclusive)\n",
    "for i in range(2, 11):\n",
    "    # Print the reciprocal of the current number 'i'\n",
    "    print(1/i)"
   ]
  },
  {
   "cell_type": "code",
   "execution_count": 8,
   "id": "2862b054-7619-4294-af4f-dcbcdf06e5e6",
   "metadata": {},
   "outputs": [
    {
     "name": "stdin",
     "output_type": "stream",
     "text": [
      "Enter number 1:  21\n",
      "Enter number 2:  43\n",
      "Enter number 3:  64\n"
     ]
    },
    {
     "name": "stdout",
     "output_type": "stream",
     "text": [
      "64 is the greatest of the three numbers.\n"
     ]
    }
   ],
   "source": [
    "# Prompt the user to enter the first number and convert it to an integer\n",
    "num1 = int(input(\"Enter number 1: \"))\n",
    "\n",
    "# Prompt the user to enter the second number and convert it to an integer\n",
    "num2 = int(input(\"Enter number 2: \"))\n",
    "\n",
    "# Prompt the user to enter the third number and convert it to an integer\n",
    "num3 = int(input(\"Enter number 3: \"))\n",
    "\n",
    "# Check if num1 is greater than both num2 and num3\n",
    "if num1 > num2 and num1 > num3:\n",
    "    # If true, print that num1 is the greatest\n",
    "    print(num1, \"is the greatest of the three numbers.\")\n",
    "# Check if num2 is greater than both num1 and num3\n",
    "elif num2 > num1 and num2 > num3:\n",
    "    # If true, print that num2 is the greatest\n",
    "    print(num2, \"is the greatest of the three numbers.\")\n",
    "# If neither num1 nor num2 is the greatest, num3 must be the greatest\n",
    "else:\n",
    "    # Print that num3 is the greatest\n",
    "    print(num3, \"is the greatest of the three numbers.\")"
   ]
  },
  {
   "cell_type": "code",
   "execution_count": 10,
   "id": "02fbc7c2-3368-40f3-8184-0ce213024080",
   "metadata": {},
   "outputs": [
    {
     "name": "stdin",
     "output_type": "stream",
     "text": [
      "Enter the principal amount:  1000\n",
      "Enter the rate of interest (in % per annum):  12\n",
      "Enter the time period (in years):  2\n",
      "Enter the number of times interest is compounded per year (e.g., 1 for annually, 4 for quarterly, 12 for monthly):  4\n"
     ]
    },
    {
     "name": "stdout",
     "output_type": "stream",
     "text": [
      "Simple Interest:  240.0\n",
      "Compound Interest:  266.77\n"
     ]
    }
   ],
   "source": [
    "# Input values from the user\n",
    "principal = float(input(\"Enter the principal amount: \"))\n",
    "rate = float(input(\"Enter the rate of interest (in % per annum): \"))\n",
    "time = float(input(\"Enter the time period (in years): \"))\n",
    "compound_frequency = int(input(\"Enter the number of times interest is compounded per year (e.g., 1 for annually, 4 for quarterly, 12 for monthly): \"))\n",
    "\n",
    "# Calculating Simple Interest\n",
    "simple_interest = (principal * rate * time) / 100\n",
    "\n",
    "# Calculating Compound Interest\n",
    "compound_interest = principal * (1 + (rate / (100 * compound_frequency)))**(compound_frequency * time) - principal\n",
    "\n",
    "# Display the results\n",
    "print(\"Simple Interest: \", round(simple_interest, 2))\n",
    "print(\"Compound Interest: \", round(compound_interest, 2))"
   ]
  },
  {
   "cell_type": "code",
   "execution_count": null,
   "id": "3a965b73-753b-49a2-b197-6321bfc0d0e2",
   "metadata": {},
   "outputs": [],
   "source": []
  }
 ],
 "metadata": {
  "kernelspec": {
   "display_name": "Python 3 (ipykernel)",
   "language": "python",
   "name": "python3"
  },
  "language_info": {
   "codemirror_mode": {
    "name": "ipython",
    "version": 3
   },
   "file_extension": ".py",
   "mimetype": "text/x-python",
   "name": "python",
   "nbconvert_exporter": "python",
   "pygments_lexer": "ipython3",
   "version": "3.12.7"
  }
 },
 "nbformat": 4,
 "nbformat_minor": 5
}
