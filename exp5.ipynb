{
  "nbformat": 4,
  "nbformat_minor": 0,
  "metadata": {
    "colab": {
      "provenance": [],
      "authorship_tag": "ABX9TyMHJyKV3J2StV0Dg3xCmpxR",
      "include_colab_link": true
    },
    "kernelspec": {
      "name": "python3",
      "display_name": "Python 3"
    },
    "language_info": {
      "name": "python"
    }
  },
  "cells": [
    {
      "cell_type": "markdown",
      "metadata": {
        "id": "view-in-github",
        "colab_type": "text"
      },
      "source": [
        "<a href=\"https://colab.research.google.com/github/yuvrajdevv/Python_Lab/blob/main/exp5.ipynb\" target=\"_parent\"><img src=\"https://colab.research.google.com/assets/colab-badge.svg\" alt=\"Open In Colab\"/></a>"
      ]
    },
    {
      "cell_type": "code",
      "execution_count": null,
      "metadata": {
        "colab": {
          "base_uri": "https://localhost:8080/"
        },
        "id": "UkxOlJt-ZgGm",
        "outputId": "a37f569e-5f73-4d10-dd5d-cba1904703f1"
      },
      "outputs": [
        {
          "output_type": "stream",
          "name": "stdout",
          "text": [
            "enter no10\n",
            "2\n",
            "3\n",
            "5\n",
            "8\n",
            "10\n",
            "13\n",
            "sum of even term is 10\n"
          ]
        }
      ],
      "source": [
        "num=int(input(\"enter no\"))\n",
        "a=1\n",
        "b=2\n",
        "sum=0\n",
        "while b<num:\n",
        "    if(b%2==0):\n",
        "        sum=sum+b\n",
        "        print(sum)\n",
        "    a,b=b,a+b\n",
        "    print(b)\n",
        "print(\"sum of even term is\",sum)"
      ]
    },
    {
      "cell_type": "code",
      "source": [
        "def prime_num(num):\n",
        "    sum=0\n",
        "    for i in range(2,num+1):\n",
        "        for j in range(2,i):\n",
        "            if(i%j==0):\n",
        "                break\n",
        "        else:\n",
        "            print(\"prime term is:\",i)\n",
        "            sum=sum+i\n",
        "    return sum\n",
        "\n",
        "num=int(input(\"enter number\"))\n",
        "print(\"the sum is =\",prime_num(num))"
      ],
      "metadata": {
        "colab": {
          "base_uri": "https://localhost:8080/"
        },
        "id": "oV0ouANbZ0nK",
        "outputId": "b3e96b8c-8a4b-4b12-9a73-db22fd8f4e10"
      },
      "execution_count": null,
      "outputs": [
        {
          "output_type": "stream",
          "name": "stdout",
          "text": [
            "enter number10\n",
            "prime term is: 2\n",
            "prime term is: 3\n",
            "prime term is: 5\n",
            "prime term is: 7\n",
            "the sum is = 17\n"
          ]
        }
      ]
    }
  ]
}